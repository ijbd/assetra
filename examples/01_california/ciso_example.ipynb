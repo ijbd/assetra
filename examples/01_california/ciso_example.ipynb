{
 "cells": [
  {
   "attachments": {},
   "cell_type": "markdown",
   "metadata": {},
   "source": [
    "# Balancing Authority Example\n",
    "\n",
    "The following example shows how to use the assetra package to analyze an existing energy system. California ISO is taken as a use-case with system-specific data sources. \n",
    "\n",
    "**Contents:**\n",
    "1. Setup `assetra`\n",
    "2. Examine the `EnergySystem` object\n",
    "3. Run probabilistic simulations with the `ProbabilisticSimulation` object\n",
    "4. Quantify resource adequacy\n",
    "5. Quantify resource contribution (ELCC)\n",
    "6. Appendix: CISO pre-processing"
   ]
  },
  {
   "attachments": {},
   "cell_type": "markdown",
   "metadata": {},
   "source": [
    "### 1. Setup *assetra*"
   ]
  },
  {
   "attachments": {},
   "cell_type": "markdown",
   "metadata": {},
   "source": [
    "First, we can configure the Python logging settings. The `assetra` package logs various message which may be helpful for monitoring analyses or finding problems."
   ]
  },
  {
   "cell_type": "code",
   "execution_count": null,
   "metadata": {},
   "outputs": [],
   "source": [
    "from logging import basicConfig, INFO\n",
    "\n",
    "basicConfig(level=INFO)"
   ]
  },
  {
   "attachments": {},
   "cell_type": "markdown",
   "metadata": {},
   "source": [
    "For this example, we load an existing energy system representing California ISO. The data and code used to create this system is included in the appendix at the bottom of this page."
   ]
  },
  {
   "cell_type": "code",
   "execution_count": null,
   "metadata": {},
   "outputs": [],
   "source": [
    "from assetra.system import EnergySystem\n",
    "from pathlib import Path\n",
    "\n",
    "ciso_system_dir = Path(\"ciso_energy_system\")\n",
    "\n",
    "if ciso_system_dir.exists():\n",
    "    energy_system = EnergySystem()\n",
    "    energy_system.load(ciso_system_dir)\n",
    "else:\n",
    "    print(\"CISO saved system not found. Please create and save this system following the instructions found in the appendix (:\")"
   ]
  },
  {
   "attachments": {},
   "cell_type": "markdown",
   "metadata": {},
   "source": [
    "### 2. Examine the `EnergySystem` object"
   ]
  },
  {
   "cell_type": "code",
   "execution_count": null,
   "metadata": {},
   "outputs": [],
   "source": [
    "print(\"# of Units:\", energy_system.size)\n",
    "print(\"Sys. Capacity (MW):\", round(energy_system.system_capacity))"
   ]
  },
  {
   "attachments": {},
   "cell_type": "markdown",
   "metadata": {},
   "source": [
    "### 3. Run Monte Carlo simulations with the `ProbabilisticSimulation` object"
   ]
  },
  {
   "cell_type": "markdown",
   "metadata": {},
   "source": [
    "To assess resource adequacy, we assign our `EnergySystem` to a `ProbabilisticSimulation` object which generates large samples of net hourly capacity profiles. The simulation is configured to run for a specific time-frame and sample size."
   ]
  },
  {
   "cell_type": "code",
   "execution_count": null,
   "metadata": {},
   "outputs": [],
   "source": [
    "from assetra.simulation import ProbabilisticSimulation\n",
    "\n",
    "simulation = ProbabilisticSimulation(\n",
    "    start_hour=\"2019-05-01 00:00:00\",\n",
    "    end_hour=\"2019-09-01 23:00:00\",\n",
    "    trial_size=100\n",
    ")\n",
    "\n",
    "simulation.assign_energy_system(energy_system)\n",
    "simulation.run()"
   ]
  },
  {
   "attachments": {},
   "cell_type": "markdown",
   "metadata": {},
   "source": [
    "The `ProbabilisticSimulation` object generates a net hourly capacity matrix, representing net system capacity in each Monte Carlo trial. We can access a copy of this matrix to analyze shortfalls."
   ]
  },
  {
   "cell_type": "code",
   "execution_count": null,
   "metadata": {},
   "outputs": [],
   "source": [
    "# convert net hourly capacity matrix to pandas dataframe with risk hours only\n",
    "shortfall_matrix_pd = simulation.net_hourly_capacity_matrix.where(lambda c: c < 0).to_pandas().T.dropna(how=\"all\")\n"
   ]
  },
  {
   "attachments": {},
   "cell_type": "markdown",
   "metadata": {},
   "source": [
    "We can calculate hourly loss of load probability from the net hourly capacity matrix"
   ]
  },
  {
   "cell_type": "code",
   "execution_count": null,
   "metadata": {},
   "outputs": [],
   "source": [
    "# get loss of load probability\n",
    "loss_of_load_prob = shortfall_matrix_pd.count(axis=1) / shortfall_matrix_pd.shape[1]\n",
    "\n",
    "# show top 10 risk hours\n",
    "loss_of_load_prob.sort_values(ascending=False)[:10]"
   ]
  },
  {
   "attachments": {},
   "cell_type": "markdown",
   "metadata": {},
   "source": [
    "We can look at individual shortfalls for more details."
   ]
  },
  {
   "cell_type": "code",
   "execution_count": null,
   "metadata": {},
   "outputs": [],
   "source": [
    "# show shortfalls in first 5 trials\n",
    "shortfall_matrix_pd.loc[:,:5]"
   ]
  },
  {
   "cell_type": "code",
   "execution_count": null,
   "metadata": {},
   "outputs": [],
   "source": [
    "import matplotlib.pyplot as plt\n",
    "\n",
    "# setup matplotlib\n",
    "plt.style.use(\"ggplot\")\n",
    "\n",
    "# look at high risk week\n",
    "august_net_hourly_capacity_matrix = simulation.net_hourly_capacity_matrix.sel(\n",
    "    time=slice(\"2019-08-10\", \"2019-08-17\"))\n",
    "\n",
    "# plot mean net hourly capacity across trials\n",
    "qt_05_net_hourly_capacity = august_net_hourly_capacity_matrix.quantile(0.05, dim=\"trial\")\n",
    "qt_50_net_hourly_capacity = august_net_hourly_capacity_matrix.quantile(0.5, dim=\"trial\")\n",
    "qt_95_net_hourly_capacity = august_net_hourly_capacity_matrix.quantile(0.95, dim=\"trial\")\n",
    "\n",
    "fig, ax = plt.subplots()\n",
    "ax.fill_between(\n",
    "    qt_05_net_hourly_capacity.time, \n",
    "    qt_05_net_hourly_capacity, \n",
    "    qt_95_net_hourly_capacity,\n",
    "    alpha=0.3\n",
    ")\n",
    "ax.plot(qt_50_net_hourly_capacity.time, qt_50_net_hourly_capacity)\n",
    "ax.set_xticks(qt_05_net_hourly_capacity.time[::48])\n",
    "ax.set_xlabel(\"Time\")\n",
    "ax.set_ylabel(\"Net Hourly Capacity (MW)\")\n",
    "plt.tight_layout()"
   ]
  },
  {
   "attachments": {},
   "cell_type": "markdown",
   "metadata": {},
   "source": [
    "### 4. Quantify resource adequacy"
   ]
  },
  {
   "attachments": {},
   "cell_type": "markdown",
   "metadata": {},
   "source": [
    "The `assetra` package implements a number of typical resource adequacy metrics. The primary magnitude metric used in research is the expected unserved energy (EUE), denoting the total expected amount of unserved energy in the study horizon. We can pass our simulation object to an EUE model instance."
   ]
  },
  {
   "cell_type": "code",
   "execution_count": null,
   "metadata": {},
   "outputs": [],
   "source": [
    "from assetra.metrics import ExpectedUnservedEnergy\n",
    "\n",
    "# instantiate eue model\n",
    "eue_model = ExpectedUnservedEnergy(simulation)\n",
    "eue = eue_model.evaluate()\n",
    "\n",
    "print(\"System EUE:\", round(eue, 2), \"MWh\")\n"
   ]
  },
  {
   "attachments": {},
   "cell_type": "markdown",
   "metadata": {},
   "source": [
    "In addition, we can quantify three typical loss of load metrics:\n",
    "\n",
    "- `LossOfLoadHours`: The expected count of event-hours (hours where demand exceeds capacity) per study horizon.\n",
    "- `LossOfLoadDays`: The expected count of event-days (days with one or more event hours) per study horizon.\n",
    "- `LossOfLoadFrequency`: The expected count of events (contiguous event hours) per study horizon\n"
   ]
  },
  {
   "cell_type": "code",
   "execution_count": null,
   "metadata": {},
   "outputs": [],
   "source": [
    "from assetra.metrics import LossOfLoadHours, LossOfLoadDays, LossOfLoadFrequency\n",
    "import pandas as pd\n",
    "\n",
    "adequacy = pd.Series(dtype=float)\n",
    "\n",
    "for name, metric in [\n",
    "    (\"EUE (MWh)\", ExpectedUnservedEnergy),\n",
    "    (\"LOLH (h)\", LossOfLoadHours),\n",
    "    (\"LOLD (d)\", LossOfLoadDays),\n",
    "    (\"LOLF (#)\", LossOfLoadFrequency)\n",
    "]:\n",
    "    adequacy[name] = metric(simulation).evaluate()\n",
    "\n",
    "# show results\n",
    "adequacy.round(1)"
   ]
  },
  {
   "attachments": {},
   "cell_type": "markdown",
   "metadata": {},
   "source": [
    "Though loss-of-load and shortfall magnitude metrics are used regularly in research and practice, they are criticized for lacking interpretability and failing to fully characterize system vulnerability, e.g. neither visibilize tail-end events. However, combining metrics can provide intuitive insight for planners (or intelligent research models) designing mitigation schemes."
   ]
  },
  {
   "cell_type": "code",
   "execution_count": null,
   "metadata": {},
   "outputs": [],
   "source": [
    "adequacy[\"Average Outage Duration (h)\"] = adequacy[\"LOLH (h)\"] / adequacy[\"LOLF (#)\"]\n",
    "adequacy[\"Average Shortfall (MW)\"] = adequacy[\"EUE (MWh)\"] / adequacy[\"LOLH (h)\"]\n",
    "\n",
    "# show results\n",
    "adequacy.round(1)"
   ]
  },
  {
   "attachments": {},
   "cell_type": "markdown",
   "metadata": {},
   "source": [
    "### 5. Quantify resource contribution (ELCC)"
   ]
  },
  {
   "attachments": {},
   "cell_type": "markdown",
   "metadata": {},
   "source": [
    "Resource contribution is a typical extension of resource adequacy analysis. The `assetra` package implements effective load-carrying capability (ELCC) to quantify resource contribution. When we instantiate an `EffectiveLoadCarryingCapability` object, the base system will automatically be evaluated according to the `ResourceAdequacyMetric` type we provide. In the following example, we indicate that resource adequacy should be defined as EUE (e.g. rather than LOLH) by passing `ExpectedUnservedEnergy` (the class *not* an instance) as the last parameter to the ELCC instance."
   ]
  },
  {
   "cell_type": "code",
   "execution_count": null,
   "metadata": {},
   "outputs": [],
   "source": [
    "from assetra.contribution import EffectiveLoadCarryingCapability\n",
    "from assetra.simulation import ProbabilisticSimulation\n",
    "from assetra.metrics import ExpectedUnservedEnergy\n",
    "\n",
    "# initialize elcc model\n",
    "elcc_model = EffectiveLoadCarryingCapability(\n",
    "    energy_system,\n",
    "    ProbabilisticSimulation(\n",
    "        start_hour=\"2019-05-01 00:00:00\",\n",
    "        end_hour=\"2019-09-01 23:00:00\",\n",
    "        trial_size=100\n",
    "    ),\n",
    "    ExpectedUnservedEnergy\n",
    ")"
   ]
  },
  {
   "cell_type": "code",
   "execution_count": null,
   "metadata": {},
   "outputs": [],
   "source": [
    "from assetra.system import EnergySystemBuilder\n",
    "from assetra.units import StochasticUnit\n",
    "\n",
    "# create additional system with 1MW solar plant in Los Angeles, CA\n",
    "additional_solar_nameplate_capacity = 1\n",
    "additional_solar_latitude = 34\n",
    "additional_solar_longitude = -118\n",
    "additional_solar_hourly_capacity = additional_solar_nameplate_capacity * get_merra_power_generation_solar_cf(\n",
    "    additional_solar_latitude,\n",
    "    additional_solar_longitude\n",
    ")\n",
    "additional_solar_hourly_forced_outage_rate = xr.ones_like(additional_solar_hourly_capacity) * 0.05\n",
    "\n",
    "# add unit to new system\n",
    "builder = EnergySystemBuilder()\n",
    "builder.add_unit(\n",
    "    StochasticUnit(\n",
    "        id=energy_system.size,\n",
    "        nameplate_capacity=additional_solar_nameplate_capacity,\n",
    "        hourly_capacity=additional_solar_hourly_capacity,\n",
    "        hourly_forced_outage_rate=additional_solar_hourly_forced_outage_rate\n",
    "    )\n",
    ")\n",
    "additional_system = builder.build()"
   ]
  },
  {
   "attachments": {},
   "cell_type": "markdown",
   "metadata": {},
   "source": [
    "When we evaluate the ELCC of an additional resource, the `EffectiveLoadCarryingCapability` object will iteratively compute adequacy until the baseline reliability is met. "
   ]
  },
  {
   "cell_type": "code",
   "execution_count": null,
   "metadata": {},
   "outputs": [],
   "source": [
    "elcc = elcc_model.evaluate(additional_system)\n",
    "elcc_pct = elcc / additional_solar_nameplate_capacity * 100\n",
    "\n",
    "# display result\n",
    "print(\"ELCC (%): \", round(elcc_pct, 1))"
   ]
  },
  {
   "attachments": {},
   "cell_type": "markdown",
   "metadata": {},
   "source": [
    "The `EffectiveLoadCarryingCapability` model stores the net hourly capacity matrix at each step of the iterative calculation, which means we can investigate how the added resource shifts risk from the original system. The `EffectiveLoadCarryingCapability` object holds `intermediate_net_capacity_matrices` which is a list of tuples. Each tuple has two elements, the additional constant demand and the associated net hourly capacity matrix for a given step in the ELCC computation."
   ]
  },
  {
   "cell_type": "code",
   "execution_count": null,
   "metadata": {},
   "outputs": [],
   "source": [
    "final_added_demand, final_net_hourly_capacity_matrix = [i for i in elcc_model.intermediate_net_capacity_matrices][-1]"
   ]
  },
  {
   "cell_type": "code",
   "execution_count": null,
   "metadata": {},
   "outputs": [],
   "source": [
    "import xarray as xr\n",
    "\n",
    "def get_hourly_risk(net_hourly_capacity_matrix: xr.DataArray) -> xr.DataArray:\n",
    "    hourly_outage_matrix = -net_hourly_capacity_matrix.where(lambda c: c < 0)\n",
    "    hourly_risk = hourly_outage_matrix.sum(dim=\"trial\") / hourly_outage_matrix.sizes[\"trial\"]\n",
    "    return hourly_risk\n",
    "\n",
    "# get shifted risk\n",
    "original_risk = get_hourly_risk(elcc_model.original_net_capacity_matrix)\n",
    "final_risk = get_hourly_risk(final_net_hourly_capacity_matrix)\n",
    "shifted_risk = (final_risk - original_risk).where(lambda c: c != 0)\n",
    "\n",
    "# convert to pandas\n",
    "shifted_risk_pd = shifted_risk.to_pandas().dropna(how=\"all\")\n",
    "\n",
    "# display\n",
    "shifted_risk_pd"
   ]
  },
  {
   "cell_type": "code",
   "execution_count": null,
   "metadata": {},
   "outputs": [],
   "source": [
    "import matplotlib.pyplot as plt\n",
    "\n",
    "plt.style.use('ggplot')\n",
    "fig, ax = plt.subplots()\n",
    "\n",
    "ax.bar(shifted_risk_pd.index.astype(str), shifted_risk_pd)\n",
    "\n",
    "ax.set_xlabel(\"Time\")\n",
    "ax.set_ylabel(\"Change in Expected Shortfall (MW)\")\n",
    "ax.set_xticklabels(shifted_risk_pd.index.strftime('%m-%d %H:%M'))\n",
    "plt.xticks(rotation=55, ha='right')\n",
    "plt.tight_layout()\n",
    "\n",
    "plt.show()"
   ]
  },
  {
   "attachments": {},
   "cell_type": "markdown",
   "metadata": {},
   "source": [
    "### 6. Appendix: CISO preprocessing\n",
    "\n",
    "This example uses a number of external data sources providing historical demand, generator characteristics, and meteorology data. The following functions map specific data sources to the `assetra` compatible datasets used above. Specifically by:\n",
    "\n",
    "1. Formatting datasets into time-indexed xarray data structures\n",
    "2. Mapping generator locations to nearest available temperature or solar/wind capacity factor (CF) profiles\n",
    "3. Mapping hourly temperature to hourly temperature-dependent forced outage rates.\n",
    "\n",
    "**Table A1:** Data sources used for pre-processing.\n",
    "| Source                                   | Primary Variables |\n",
    "|------------------------------------------|-------------------|\n",
    "| EIA-930/Ruggles et al.<sup>1</sup>       | hourly demand |\n",
    "| EIA-860<sup>2</sup>                      | gen. nameplate capacity, <br> gen. latitude, <br> gen. longitude, <br> gen. technology, <br> storage energy capacity |\n",
    "| MERRA/Bromley-Dulfano et al.<sup>3</sup> | hourly solar CF, <br> hourly wind CF, <br> hourly temperature|\n",
    "| GADS/Murphy et al.<sup>4</sup>           | temperature-dependent generator outage rates (TDFOR) |\n",
    "\n",
    "**Sources:**<br>\n",
    "<sup>1</sup>https://github.com/truggles/EIA_Cleaned_Hourly_Electricity_Demand_Data<br>\n",
    "<sup>2</sup>https://www.eia.gov/electricity/data/eia860/<br>\n",
    "<sup>3</sup>https://github.com/ijbd/merra-power-generation<br>\n",
    "<sup>4</sup>https://www.sciencedirect.com/science/article/pii/S0306261919321117?via%3Dihub"
   ]
  },
  {
   "attachments": {},
   "cell_type": "markdown",
   "metadata": {},
   "source": [
    "We use the `EnergySystemBuilder` object to build the CISO energy system."
   ]
  },
  {
   "cell_type": "code",
   "execution_count": null,
   "metadata": {},
   "outputs": [],
   "source": [
    "from assetra.system import EnergySystemBuilder\n",
    "\n",
    "builder = EnergySystemBuilder()\n",
    "\n",
    "# every unit must have a unique id\n",
    "unit_count = 0"
   ]
  },
  {
   "attachments": {},
   "cell_type": "markdown",
   "metadata": {},
   "source": [
    "##### EIA-930"
   ]
  },
  {
   "cell_type": "markdown",
   "metadata": {},
   "source": [
    "First, we create an `assetra.units.DemandUnit` from our historical hourly demand data."
   ]
  },
  {
   "cell_type": "code",
   "execution_count": null,
   "metadata": {},
   "outputs": [],
   "source": [
    "from pathlib import Path\n",
    "from datetime import datetime\n",
    "\n",
    "import xarray as xr\n",
    "import pandas as pd\n",
    "\n",
    "def load_eia_930_cleaned_hourly_demand(\n",
    "        eia_930_cleaned_demand_file: Path,\n",
    "        start_hour: datetime,\n",
    "        end_hour: datetime) -> xr.DataArray:\n",
    "    \"\"\"Return hourly demand data as formatted data array.\n",
    "    To use this function, download cleaned demand data from:\n",
    "\n",
    "    https://github.com/truggles/EIA_Cleaned_Hourly_Electricity_Demand_Data\n",
    "\n",
    "    Args:\n",
    "        eia_930_cleaned_demand_file (Path): Path to hourly demand file\n",
    "        start_hour (datetime): First timestamp to include\n",
    "        end_hour (datetime): Last timestamp to include (inclusive)\n",
    "\n",
    "    Returns:\n",
    "        xr.DataArray: Hourly demand array with time dimension and datetime coordinates.\n",
    "    \"\"\"\n",
    "    # read demand file\n",
    "    eia_930_df = pd.read_csv(\n",
    "        eia_930_cleaned_demand_file,\n",
    "        usecols=[\"date_time\", \"cleaned demand (MW)\"],\n",
    "        index_col=\"date_time\",\n",
    "        parse_dates=True,\n",
    "    )\n",
    "\n",
    "    # keep cleaned demand demand\n",
    "    eia_930_hourly_demand_pd = eia_930_df[\"cleaned demand (MW)\"].loc[start_hour:end_hour]\n",
    "\n",
    "    # convert to xr.DataArray\n",
    "    eia_930_hourly_demand = xr.DataArray(\n",
    "        data=eia_930_hourly_demand_pd.values,\n",
    "        coords=dict(\n",
    "            time=eia_930_hourly_demand_pd.index.values\n",
    "        )\n",
    "    )\n",
    "    return eia_930_hourly_demand\n"
   ]
  },
  {
   "cell_type": "code",
   "execution_count": null,
   "metadata": {},
   "outputs": [],
   "source": [
    "\n",
    "# load demand data\n",
    "eia_930_cleaned_demand_file = Path(\"ciso_data\", \"CISO.csv\")\n",
    "hourly_demand = load_eia_930_cleaned_hourly_demand(\n",
    "\teia_930_cleaned_demand_file,\n",
    "\tstart_hour=\"2019-01-01 00:00:00\",\n",
    "\tend_hour=\"2019-12-31 23:00:00\"\n",
    ")\n",
    "\n",
    "# create demand unit\n",
    "from assetra.units import DemandUnit\n",
    "\n",
    "builder.add_unit(\n",
    "    DemandUnit(\n",
    "        id=unit_count,\n",
    "        hourly_demand=hourly_demand\n",
    "    )\n",
    ")\n",
    "unit_count += 1"
   ]
  },
  {
   "attachments": {},
   "cell_type": "markdown",
   "metadata": {},
   "source": [
    "##### EIA-860"
   ]
  },
  {
   "cell_type": "markdown",
   "metadata": {},
   "source": [
    "\n",
    "We gather generating unit information from EIA Form 860. EIA-860 data is stored in multiple files at both the plant and unit level. We filter the plant-level dataset to only include our balancing authority of interest (CISO)."
   ]
  },
  {
   "cell_type": "code",
   "execution_count": null,
   "metadata": {},
   "outputs": [],
   "source": [
    "def load_eia_860_plants(eia_860_plant_file: Path, bal_auth: str) -> pd.DataFrame:\n",
    "    \"\"\"Return a subset of the EIA 860 plant file for plants in a balancing authority\n",
    "\n",
    "    Args:\n",
    "        eia_860_plant_file (Path): Path to hourly demand file\n",
    "        bal_auth (str): Balancing authority code as defined by EIA-860\n",
    "\n",
    "    Returns:\n",
    "        pd.DataFrame: Plant code-indexed dataframe with plant latitude and longitude\n",
    "    \"\"\"\n",
    "    # read file\n",
    "    eia_860_plant_df = pd.read_excel(\n",
    "        eia_860_plant_file,\n",
    "        skiprows=1,\n",
    "        usecols=[\n",
    "            \"Plant Code\",\n",
    "            \"Latitude\",\n",
    "            \"Longitude\",\n",
    "            \"Balancing Authority Code\",\n",
    "        ],\n",
    "        index_col=\"Plant Code\",\n",
    "    )\n",
    "\n",
    "    # filter\n",
    "    eia_860_plant_df = eia_860_plant_df[\n",
    "        eia_860_plant_df[\"Balancing Authority Code\"] == bal_auth\n",
    "    ]\n",
    "\n",
    "    return eia_860_plant_df\n"
   ]
  },
  {
   "cell_type": "code",
   "execution_count": null,
   "metadata": {},
   "outputs": [],
   "source": [
    "\n",
    "# parse eia 860 plants (selecting by balancing authority)\n",
    "eia_860_plant_file = Path(\"ciso_data\", \"2___Plant_Y2019.xlsx\")\n",
    "eia_860_plants = load_eia_860_plants(eia_860_plant_file, \"CISO\")"
   ]
  },
  {
   "attachments": {},
   "cell_type": "markdown",
   "metadata": {},
   "source": [
    "We aggregate generators into four different categories for pre-processing: solar, wind, storage, and thermal. For this example, thermal generators include any units not fitting into the three former categories (e.g. hydroelectric is characterized as a thermal unit). "
   ]
  },
  {
   "cell_type": "code",
   "execution_count": null,
   "metadata": {},
   "outputs": [],
   "source": [
    "def load_eia_860_generators(\n",
    "    eia_860_generator_file: Path,\n",
    "    eia_860_plants: pd.DataFrame,\n",
    "    additional_cols: list=[],\n",
    "    tech_filter: list=[],\n",
    "    invert_tech_filter: bool=False\n",
    "    ) -> pd.DataFrame:\n",
    "    \"\"\"Return dataframe with generators\" latitude, longitude, technology, and nameplate capacity\"\"\"\n",
    "    # read file\n",
    "    eia_860_generator_df = pd.read_excel(\n",
    "        eia_860_generator_file,\n",
    "        skiprows=1,\n",
    "        usecols=[\n",
    "            \"Plant Code\",\n",
    "            \"Technology\",\n",
    "            \"Nameplate Capacity (MW)\",\n",
    "            \"Status\"\n",
    "        ] + additional_cols,\n",
    "    )\n",
    "\n",
    "    # filter by plants\n",
    "    eia_860_generator_df = eia_860_generator_df[\n",
    "        eia_860_generator_df[\"Plant Code\"].isin(eia_860_plants.index)\n",
    "    ]\n",
    "\n",
    "    # filter by technology\n",
    "    if tech_filter:\n",
    "        if invert_tech_filter:\n",
    "            eia_860_generator_df = eia_860_generator_df[\n",
    "                ~eia_860_generator_df[\"Technology\"].isin(\n",
    "                    tech_filter\n",
    "                )\n",
    "            ]\n",
    "        else:\n",
    "            eia_860_generator_df = eia_860_generator_df[\n",
    "                eia_860_generator_df[\"Technology\"].isin(\n",
    "                    tech_filter\n",
    "                )\n",
    "            ]\n",
    "\n",
    "    # filter by status\n",
    "    eia_860_generator_df = eia_860_generator_df[\n",
    "        eia_860_generator_df[\"Status\"] == \"OP\"\n",
    "    ]\n",
    "\n",
    "    eia_860_generator_df[\"Latitude\"] = eia_860_generator_df[\"Plant Code\"].map(lambda plant_code: eia_860_plants[\"Latitude\"][plant_code])\n",
    "    eia_860_generator_df[\"Longitude\"] = eia_860_generator_df[\"Plant Code\"].map(lambda plant_code: eia_860_plants[\"Longitude\"][plant_code])\n",
    "\n",
    "    return eia_860_generator_df"
   ]
  },
  {
   "cell_type": "code",
   "execution_count": null,
   "metadata": {},
   "outputs": [],
   "source": [
    "\n",
    "# parse eia 860 generator types\n",
    "EIA_860_NON_THERMAL_TECHNOLOGY = [\n",
    "    \"Onshore Wind Turbine\",\n",
    "    #\"Conventional Hydroelectric\",\n",
    "    \"Solar Photovoltaic\",\n",
    "    \"Offshore Wind Turbine\",\n",
    "    \"Batteries\",\n",
    "    \"Hydroelectric Pumped Storage\"\n",
    "]\n",
    "eia_860_generator_file = Path(\"ciso_data\", \"3_1_Generator_Y2019.xlsx\")\n",
    "eia_860_wind_file = Path(\"ciso_data\", \"3_2_Wind_Y2019.xlsx\")\n",
    "eia_860_solar_file = Path(\"ciso_data\", \"3_3_Solar_Y2019.xlsx\")\n",
    "eia_860_storage_file = Path(\"ciso_data\", \"3_4_Energy_Storage_Y2019.xlsx\")\n",
    "\n",
    "eia_860_thermal_generators = load_eia_860_generators(\n",
    "    eia_860_generator_file, \n",
    "    eia_860_plants,\n",
    "    tech_filter=EIA_860_NON_THERMAL_TECHNOLOGY,\n",
    "    invert_tech_filter=True\n",
    ")\n",
    "eia_860_wind_generators = load_eia_860_generators(\n",
    "    eia_860_wind_file,\n",
    "    eia_860_plants\n",
    ")\n",
    "eia_860_solar_generators = load_eia_860_generators(\n",
    "    eia_860_solar_file,\n",
    "    eia_860_plants\n",
    ")\n",
    "eia_860_storage_generators = load_eia_860_generators(\n",
    "    eia_860_storage_file,\n",
    "    eia_860_plants,\n",
    "    additional_cols=[\"Nameplate Energy Capacity (MWh)\"]\n",
    ")"
   ]
  },
  {
   "attachments": {},
   "cell_type": "markdown",
   "metadata": {},
   "source": [
    "##### MERRA Power Generation"
   ]
  },
  {
   "attachments": {},
   "cell_type": "markdown",
   "metadata": {},
   "source": [
    "We need additional information to create hourly capacity and hourly forced outage profiles. We gather solar and wind capacity factors and temperature data from the MERRA power generation repository (see Appendix Table A1), and we use a look-up table holding temperature-dependent forced outage rates for different technology categories."
   ]
  },
  {
   "cell_type": "code",
   "execution_count": null,
   "metadata": {},
   "outputs": [],
   "source": [
    "import xarray as xr\n",
    "\n",
    "# load processed power generation dataset (solar cf, wind cf, and temperature)\n",
    "pow_gen_file = Path(\"ciso_data\",\"merra_power_generation_ciso_2019.nc\")\n",
    "pow_gen_dataset = xr.open_dataset(pow_gen_file)\n",
    "\n",
    "def get_nearest_hourly_profile(\n",
    "    latitude: float,\n",
    "    longitude: float,\n",
    "    array: xr.DataArray\n",
    ") -> xr.DataArray:\n",
    "    \"\"\"Return time series corresponding to the nearest coordinate in a\n",
    "    MERRA power generation data array.\n",
    "\n",
    "    Args:\n",
    "        latitude (float): Latitude relative to equator in degrees\n",
    "        start_hour (datetime): Longitude relative to meridian in degrees\n",
    "        array (xr.DataArray): \"solar_capacity_factor\", \"wind_capacity_factor\",\n",
    "            or \"temperature\"\n",
    "\n",
    "    Returns:\n",
    "        xr.DataArray: Array with time dimension and datetime coordinates.\n",
    "    \"\"\"\n",
    "    return array.sel(\n",
    "            lat=latitude, \n",
    "            lon=longitude, \n",
    "            method=\"nearest\"\n",
    "        ).squeeze(drop=True)\n",
    "\n",
    "def get_merra_power_generation_solar_cf(\n",
    "    latitude: float,\n",
    "    longitude: float) -> xr.DataArray:\n",
    "    return get_nearest_hourly_profile(latitude, longitude, pow_gen_dataset[\"solar_capacity_factor\"])\n",
    "\n",
    "def get_merra_power_generation_wind_cf(\n",
    "    latitude: float,\n",
    "    longitude: float) -> xr.DataArray:\n",
    "    return get_nearest_hourly_profile(latitude, longitude, pow_gen_dataset[\"wind_capacity_factor\"])\n",
    "\n",
    "def get_merra_power_generation_temperature(\n",
    "    latitude: float,\n",
    "    longitude: float) -> xr.DataArray:\n",
    "    return get_nearest_hourly_profile(latitude, longitude, pow_gen_dataset[\"temperature\"])"
   ]
  },
  {
   "cell_type": "code",
   "execution_count": null,
   "metadata": {},
   "outputs": [],
   "source": [
    "import pandas as pd\n",
    "\n",
    "# load temperature dependent outage rate (tdfor) table\n",
    "tdfor_table_file = Path(\"ciso_data\", \"temperature_dependent_outage_rates.csv\")\n",
    "tdfor_table = pd.read_csv(tdfor_table_file, index_col=0)\n",
    "tdfor_table = tdfor_table / 100 # percentages stored as integers\n",
    "\n",
    "# create mapping table for tdfor table\n",
    "tech_categories = {\n",
    "    \"CC\" : [\"Natural Gas Fired Combined Cycle\"],\n",
    "    \"CT\" : [\"Natural Gas Fired Combustion Turbine\",\"Landfill Gas\"],\n",
    "    \"DS\" : [\"Natural Gas Internal Combustion Engine\"],\n",
    "    \"ST\" : [\"Conventional Steam Coal\",\"Natural Gas Steam Turbine\"],\n",
    "    \"NU\" : [\"Nuclear\"],\n",
    "    \"HD\" : [\"Conventional Hydroelectric\",\"Solar Thermal without Energy Storage\",\n",
    "                   \"Hydroelectric Pumped Storage\",\"Solar Thermal with Energy Storage\",\"Wood/Wood Waste Biomass\"]\n",
    "}\n",
    "\n",
    "# create mapping from technology to category\n",
    "tech_mapping = {tech : cat for cat, techs in tech_categories.items() for tech in techs}\n",
    "\n",
    "def get_hourly_forced_outage_rate(hourly_temperature: xr.DataArray, technology: str) -> xr.DataArray:\n",
    "    # index tdfor table by tech\n",
    "    tdfor_map = tdfor_table[tech_mapping.get(technology, \"Other\")]\n",
    "    map_temp_to_for = lambda hourly_temperature: tdfor_map.iloc[\n",
    "            tdfor_map.index.get_indexer(hourly_temperature, method=\"nearest\")\n",
    "        ]\n",
    "    return xr.apply_ufunc(\n",
    "        map_temp_to_for,\n",
    "        hourly_temperature\n",
    "    ).rename(\"hourly_forced_outage_rate\")"
   ]
  },
  {
   "attachments": {},
   "cell_type": "markdown",
   "metadata": {},
   "source": [
    "##### Build Units\n",
    "\n",
    "For conventional thermal generators, we map hourly temperature profiles into temperature-dependent forced outage rates, then instantiate thermal units as `assetra.units.StochasticUnit` objects. "
   ]
  },
  {
   "cell_type": "code",
   "execution_count": null,
   "metadata": {},
   "outputs": [],
   "source": [
    "from assetra.units import StochasticUnit\n",
    "\n",
    "for _, generator in eia_860_thermal_generators.iterrows():\n",
    "    # get hourly temperature\n",
    "    hourly_temperature = get_merra_power_generation_temperature(\n",
    "        generator[\"Latitude\"],\n",
    "        generator[\"Longitude\"]\n",
    "    )\n",
    "\n",
    "    # map temperature to hourly forced outage rate\n",
    "    hourly_forced_outage_rate = get_hourly_forced_outage_rate(hourly_temperature, generator[\"Technology\"])\n",
    "\n",
    "    # get hourly capacity\n",
    "    hourly_capacity = ( \n",
    "        xr.ones_like(hourly_temperature).rename(\"hourly_capacity\") \n",
    "        * generator[\"Nameplate Capacity (MW)\"]\n",
    "    )\n",
    "\n",
    "    # create assetra energy unit\n",
    "    thermal_unit = StochasticUnit(\n",
    "            id=unit_count,\n",
    "            nameplate_capacity=generator[\"Nameplate Capacity (MW)\"],\n",
    "            hourly_capacity=hourly_capacity,\n",
    "            hourly_forced_outage_rate=hourly_forced_outage_rate\n",
    "        )\n",
    "    unit_count += 1\n",
    "    \n",
    "    # add unit to energy system\n",
    "    builder.add_unit(thermal_unit)"
   ]
  },
  {
   "attachments": {},
   "cell_type": "markdown",
   "metadata": {},
   "source": [
    "For solar and wind generators, we additionally scale nameplate capacities by hourly capacity factors from our MERRA power generation dataset. Solar and wind generators are added as `assetra.units.StochasticUnit` objects.\n"
   ]
  },
  {
   "cell_type": "code",
   "execution_count": null,
   "metadata": {},
   "outputs": [],
   "source": [
    "from assetra.units import StochasticUnit\n",
    "\n",
    "# add solar\n",
    "for _, generator in eia_860_solar_generators.iterrows():\n",
    "    # get hourly temperature\n",
    "    hourly_temperature = get_merra_power_generation_temperature(\n",
    "        generator[\"Latitude\"],\n",
    "        generator[\"Longitude\"]\n",
    "    )\n",
    "    # get hourly temperature\n",
    "    hourly_capacity = get_merra_power_generation_solar_cf(\n",
    "        generator[\"Latitude\"],\n",
    "        generator[\"Longitude\"]\n",
    "    ) * generator[\"Nameplate Capacity (MW)\"]\n",
    "\n",
    "    # map temperature to hourly forced outage rate\n",
    "    hourly_forced_outage_rate = get_hourly_forced_outage_rate(hourly_temperature, generator[\"Technology\"])\n",
    "\n",
    "    # create assetra energy unit\n",
    "    solar_unit = StochasticUnit(\n",
    "            id=unit_count,\n",
    "            nameplate_capacity=generator[\"Nameplate Capacity (MW)\"],\n",
    "            hourly_capacity=hourly_capacity,\n",
    "            hourly_forced_outage_rate=hourly_forced_outage_rate\n",
    "        )\n",
    "    unit_count += 1\n",
    "    \n",
    "    # add unit to energy system\n",
    "    builder.add_unit(solar_unit)\n",
    "\n",
    "# add wind\n",
    "for _, generator in eia_860_wind_generators.iterrows():\n",
    "    # get hourly temperature\n",
    "    hourly_temperature = get_merra_power_generation_temperature(\n",
    "        generator[\"Latitude\"],\n",
    "        generator[\"Longitude\"]\n",
    "    )\n",
    "    # get hourly temperature\n",
    "    hourly_capacity = get_merra_power_generation_wind_cf(\n",
    "        generator[\"Latitude\"],\n",
    "        generator[\"Longitude\"]\n",
    "    ) * generator[\"Nameplate Capacity (MW)\"]\n",
    "\n",
    "    # map temperature to hourly forced outage rate\n",
    "    hourly_forced_outage_rate = get_hourly_forced_outage_rate(hourly_temperature, generator[\"Technology\"])\n",
    "\n",
    "    # create assetra energy unit\n",
    "    wind_unit = StochasticUnit(\n",
    "            id=unit_count,\n",
    "            nameplate_capacity=generator[\"Nameplate Capacity (MW)\"],\n",
    "            hourly_capacity=hourly_capacity,\n",
    "            hourly_forced_outage_rate=hourly_forced_outage_rate\n",
    "        )\n",
    "    unit_count += 1\n",
    "    \n",
    "    # add unit to energy system\n",
    "    builder.add_unit(wind_unit)"
   ]
  },
  {
   "attachments": {},
   "cell_type": "markdown",
   "metadata": {},
   "source": [
    "Lastly, we add storage units as `assetra.units.StorageUnit` objects."
   ]
  },
  {
   "cell_type": "code",
   "execution_count": null,
   "metadata": {},
   "outputs": [],
   "source": [
    "from assetra.units import StorageUnit\n",
    "\n",
    "STORAGE_EFFICIENCY = 0.8\n",
    "\n",
    "for _, generator in eia_860_storage_generators.iterrows():\n",
    "    storage_unit = StorageUnit(\n",
    "        id=unit_count,\n",
    "        nameplate_capacity=generator[\"Nameplate Capacity (MW)\"],\n",
    "        charge_rate=generator[\"Nameplate Capacity (MW)\"],\n",
    "        discharge_rate=generator[\"Nameplate Capacity (MW)\"],\n",
    "        charge_capacity=generator[\"Nameplate Energy Capacity (MWh)\"],\n",
    "        roundtrip_efficiency=STORAGE_EFFICIENCY\n",
    "    )\n",
    "    unit_count += 1\n",
    "\n",
    "    # add unit to energy system\n",
    "    builder.add_unit(storage_unit)\n"
   ]
  },
  {
   "attachments": {},
   "cell_type": "markdown",
   "metadata": {},
   "source": [
    "Now that we have added all of our units, we can build and save our energy system."
   ]
  },
  {
   "cell_type": "code",
   "execution_count": null,
   "metadata": {},
   "outputs": [],
   "source": [
    "energy_system = builder.build()\n",
    "energy_system.save(ciso_system_dir)"
   ]
  }
 ],
 "metadata": {
  "kernelspec": {
   "display_name": "env",
   "language": "python",
   "name": "python3"
  },
  "language_info": {
   "codemirror_mode": {
    "name": "ipython",
    "version": 3
   },
   "file_extension": ".py",
   "mimetype": "text/x-python",
   "name": "python",
   "nbconvert_exporter": "python",
   "pygments_lexer": "ipython3",
   "version": "3.10.6"
  },
  "orig_nbformat": 4
 },
 "nbformat": 4,
 "nbformat_minor": 2
}
