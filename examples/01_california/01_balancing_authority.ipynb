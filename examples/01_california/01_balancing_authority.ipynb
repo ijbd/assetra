{
 "cells": [
  {
   "attachments": {},
   "cell_type": "markdown",
   "metadata": {},
   "source": [
    "# Single Region Example\n",
    "\n",
    "The following example shows how to use the assetra package to analyze an existing energy system. California ISO is taken as a use-case with system-specific data sources."
   ]
  },
  {
   "attachments": {},
   "cell_type": "markdown",
   "metadata": {},
   "source": [
    "### 1. Setup *assetra*"
   ]
  },
  {
   "attachments": {},
   "cell_type": "markdown",
   "metadata": {},
   "source": [
    "To begin, we initialize an `EnergySystemBuilder` object. We will add demand and generating units to this system builder in the following sections."
   ]
  },
  {
   "cell_type": "code",
   "execution_count": 42,
   "metadata": {},
   "outputs": [],
   "source": [
    "from assetra.system import EnergySystemBuilder\n",
    "\n",
    "builder = EnergySystemBuilder()"
   ]
  },
  {
   "cell_type": "markdown",
   "metadata": {},
   "source": [
    "### 2. Load Demand Data"
   ]
  },
  {
   "attachments": {},
   "cell_type": "markdown",
   "metadata": {},
   "source": [
    "In this example, we use publicly-available historical hourly demand profiles based on the EIA-930 dataset. \n",
    "\n",
    "**Source:** https://github.com/truggles/EIA_Cleaned_Hourly_Electricity_Demand_Data"
   ]
  },
  {
   "cell_type": "code",
   "execution_count": 43,
   "metadata": {},
   "outputs": [],
   "source": [
    "from pathlib import Path\n",
    "from datetime import datetime\n",
    "\n",
    "import xarray as xr\n",
    "import pandas as pd\n",
    "\n",
    "def load_eia_930_cleaned_hourly_demand(\n",
    "        eia_930_cleaned_demand_file: Path,\n",
    "        start_hour: datetime,\n",
    "        end_hour: datetime) -> xr.DataArray:\n",
    "    \"\"\"Return hourly demand data. This function expects a formatted csv which can\n",
    "    be downloaded from:\n",
    "\n",
    "    https://github.com/truggles/EIA_Cleaned_Hourly_Electricity_Demand_Data\n",
    "    \"\"\"\n",
    "    # read demand file\n",
    "    eia_930_df = pd.read_csv(\n",
    "        eia_930_cleaned_demand_file,\n",
    "        usecols=[\"date_time\", \"cleaned demand (MW)\"],\n",
    "        index_col=\"date_time\",\n",
    "        parse_dates=True,\n",
    "    )\n",
    "\n",
    "    # keep demand\n",
    "    hourly_demand_pd = eia_930_df[\"cleaned demand (MW)\"].loc[start_hour:end_hour]\n",
    "\n",
    "    # convert to xr.DataArray\n",
    "    hourly_demand = xr.DataArray.from_series(hourly_demand_pd)\n",
    "    return hourly_demand\n",
    "\n",
    "eia_930_cleaned_demand_file = Path('sample_data', 'CISO.csv')\n",
    "hourly_demand = load_eia_930_cleaned_hourly_demand(\n",
    "\teia_930_cleaned_demand_file,\n",
    "\tstart_hour='2019-01-01 00:00:00',\n",
    "\tend_hour='2019-12-31 23:00:00'\n",
    ")"
   ]
  },
  {
   "attachments": {},
   "cell_type": "markdown",
   "metadata": {},
   "source": [
    "The previous code block returns an hourly demand profile in an `xarray.DataArray` object. We can add this profile to our energy system as an `assetra.units.DemandUnit` object. \n",
    "\n",
    "**Notes:**\n",
    "\n",
    " - All objects inhering from `assetra.units.EnergyUnit` (including demand units) must have unique identifiying number. For the purposes of this example, we use an incrementing counter for this purpose."
   ]
  },
  {
   "cell_type": "code",
   "execution_count": 44,
   "metadata": {},
   "outputs": [],
   "source": [
    "from assetra.units import DemandUnit\n",
    "\n",
    "# start unit count\n",
    "unit_count = 0\n",
    "builder.add_unit(\n",
    "    DemandUnit(\n",
    "        id=unit_count,\n",
    "        hourly_demand=hourly_demand\n",
    "    )\n",
    ")\n"
   ]
  },
  {
   "attachments": {},
   "cell_type": "markdown",
   "metadata": {},
   "source": [
    "### 2. Load Generator Data"
   ]
  },
  {
   "attachments": {},
   "cell_type": "markdown",
   "metadata": {},
   "source": [
    "We get unit-level generator data from EIA form-860. From this dataset, we identify nameplate capacity, location, and technology.\n",
    "\n",
    "**Source:** https://www.eia.gov/electricity/data/eia860/"
   ]
  },
  {
   "cell_type": "code",
   "execution_count": 48,
   "metadata": {},
   "outputs": [],
   "source": [
    "def load_eia_860_plants(eia_860_plant_file: Path, bal_auth: str) -> tuple[pd.Series, pd.Series, pd.Series]:\n",
    "    \"\"\"Return series of eia 860 plant codes, latitudes, and longitudes\"\"\"\n",
    "    # read file\n",
    "    eia_860_plant_df = pd.read_excel(\n",
    "        eia_860_plant_file,\n",
    "        skiprows=1,\n",
    "        usecols=[\n",
    "            \"Plant Code\",\n",
    "            \"Latitude\",\n",
    "            \"Longitude\",\n",
    "            \"Balancing Authority Code\",\n",
    "        ],\n",
    "        index_col=\"Plant Code\",\n",
    "    )\n",
    "\n",
    "    # filter\n",
    "    eia_860_plant_df = eia_860_plant_df[\n",
    "        eia_860_plant_df[\"Balancing Authority Code\"] == bal_auth\n",
    "    ]\n",
    "\n",
    "    return eia_860_plant_df\n",
    "\n",
    "# parse eia 860 plants (selecting by balancing authority)\n",
    "eia_860_plant_file = Path('sample_data', '2___Plant_Y2019.xlsx')\n",
    "eia_860_plants = load_eia_860_plants(eia_860_plant_file, 'CISO')\n",
    "\n",
    "def load_eia_860_generators(\n",
    "    eia_860_generator_file: Path,\n",
    "    plants: pd.DataFrame,\n",
    "    additional_cols: list=[],\n",
    "    tech_filter: list=[],\n",
    "    invert_tech_filter: bool=False\n",
    "    ) -> tuple[list, list, list]:\n",
    "    \"\"\"Return a list of thermal generator capacities, latitudes, and longitudes\"\"\"\n",
    "    # read file\n",
    "    eia_860_generator_df = pd.read_excel(\n",
    "        eia_860_generator_file,\n",
    "        skiprows=1,\n",
    "        usecols=[\n",
    "            \"Plant Code\",\n",
    "            \"Technology\",\n",
    "            \"Nameplate Capacity (MW)\",\n",
    "            \"Status\"\n",
    "        ] + additional_cols,\n",
    "    )\n",
    "\n",
    "    # filter by plants\n",
    "    eia_860_generator_df = eia_860_generator_df[\n",
    "        eia_860_generator_df[\"Plant Code\"].isin(plants.index)\n",
    "    ]\n",
    "\n",
    "    # filter by technology\n",
    "    if tech_filter:\n",
    "        if invert_tech_filter:\n",
    "            eia_860_generator_df = eia_860_generator_df[\n",
    "                ~eia_860_generator_df[\"Technology\"].isin(\n",
    "                    tech_filter\n",
    "                )\n",
    "            ]\n",
    "        else:\n",
    "            eia_860_generator_df = eia_860_generator_df[\n",
    "                eia_860_generator_df[\"Technology\"].isin(\n",
    "                    tech_filter\n",
    "                )\n",
    "            ]\n",
    "\n",
    "    # filter by status\n",
    "    eia_860_generator_df = eia_860_generator_df[\n",
    "        eia_860_generator_df[\"Status\"] == \"OP\"\n",
    "    ]\n",
    "\n",
    "    return eia_860_generator_df\n",
    "\n",
    "# parse eia 860 generator types\n",
    "EIA_860_NON_THERMAL_TECHNOLOGY = [\n",
    "    \"Onshore Wind Turbine\",\n",
    "    \"Conventional Hydroelectric\",\n",
    "    \"Solar Photovoltaic\",\n",
    "    \"Offshore Wind Turbine\",\n",
    "    \"Batteries\",\n",
    "    \"Hydroelectric Pumped Storage\"\n",
    "]\n",
    "eia_860_generator_file = Path('sample_data', '3_1_Generator_Y2019.xlsx')\n",
    "eia_860_wind_file = Path('sample_data', '3_2_Wind_Y2019.xlsx')\n",
    "eia_860_solar_file = Path('sample_data', '3_3_Solar_Y2019.xlsx')\n",
    "eia_860_storage_file = Path('sample_data', '3_4_Energy_Storage_Y2019.xlsx')\n",
    "\n",
    "eia_860_thermal_generators = load_eia_860_generators(\n",
    "    eia_860_generator_file, \n",
    "    eia_860_plants,\n",
    "    tech_filter=EIA_860_NON_THERMAL_TECHNOLOGY,\n",
    "    invert_tech_filter=True\n",
    ")\n",
    "eia_860_wind_generators = load_eia_860_generators(\n",
    "    eia_860_wind_file,\n",
    "    eia_860_plants\n",
    ")\n",
    "eia_860_solar_generators = load_eia_860_generators(\n",
    "    eia_860_solar_file,\n",
    "    eia_860_plants\n",
    ")\n",
    "eia_860_storage_generators = load_eia_860_generators(\n",
    "    eia_860_storage_file,\n",
    "    eia_860_plants,\n",
    "    additional_cols=[\"Nameplate Energy Capacity (MWh)\"]\n",
    ")"
   ]
  },
  {
   "attachments": {},
   "cell_type": "markdown",
   "metadata": {},
   "source": [
    "We also need hourly solar and wind capacity factors and temperature profiles. We use another ASSET lab tool to generate sample data for CISO.\n",
    "\n",
    "**Source:** https://github.com/ijbd/merra-power-generation\n"
   ]
  },
  {
   "cell_type": "code",
   "execution_count": null,
   "metadata": {},
   "outputs": [],
   "source": [
    "\n",
    "\n",
    "# load processed power generation file created with \n",
    "pow_gen_file = 'merra_power_generation_ciso_2020.nc'\n",
    "pow_gen_dataset = xr.open_dataset(pow_gen_file)\n",
    "\n",
    "temp_dataset = pow_gen_dataset['T2M']\n",
    "solar_c\n",
    "\n",
    "\n",
    "\n",
    "\n"
   ]
  },
  {
   "cell_type": "code",
   "execution_count": null,
   "metadata": {},
   "outputs": [],
   "source": [
    "from assetra.preprocessing import (\n",
    "\tload_processed_reanalysis_net_cdf,\n",
    "\tloc_processed_reanalysis_variable,\n",
    "\tload_eia_860_plants,\n",
    "\tload_eia_860_thermal_generators,\n",
    "\tcalc_hourly_forced_outage_rates\n",
    "\t)\n",
    "\n",
    "generator_fleet = []\n",
    "\n",
    "for generator in eia_860_thermal_generators:\n",
    "\thourly_temperature = loc_processed_reanalysis_variable(\n",
    "\t\tvariable_name='temperature (C)',\n",
    "\t\tstart=datetime(2020, 1, 1),\n",
    "\t\tend=datetime(2021, 1, 1),\n",
    "\t\tlatitude=generator['latitute']\n",
    "\t\tlongitude=generator['longitude']\n",
    "\t\t)\n",
    "\thourly_forced_outage_rate = calc_forced_outage_rate(\n",
    "\t\ttechnology=generator['technology'],\n",
    "\t\ttemperature=hourly_temperature\n",
    "\t\t)\n",
    "\n",
    "\tgenerator_fleet.append(\n",
    "\t\tStochasticUnit(\n",
    "\t\t\thourly_capacity=np.ones(8760)*generator['capacity (MW)']\n",
    "\t\t\thourly_forced_outage_rate = hourly_forced_outage_rate\n",
    "\t\t\t)\n",
    "\t\t)\n",
    "\n"
   ]
  }
 ],
 "metadata": {
  "kernelspec": {
   "display_name": "env",
   "language": "python",
   "name": "python3"
  },
  "language_info": {
   "codemirror_mode": {
    "name": "ipython",
    "version": 3
   },
   "file_extension": ".py",
   "mimetype": "text/x-python",
   "name": "python",
   "nbconvert_exporter": "python",
   "pygments_lexer": "ipython3",
   "version": "3.10.6"
  },
  "orig_nbformat": 4
 },
 "nbformat": 4,
 "nbformat_minor": 2
}
