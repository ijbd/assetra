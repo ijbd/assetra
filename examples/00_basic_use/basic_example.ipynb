{
 "cells": [
  {
   "attachments": {},
   "cell_type": "markdown",
   "metadata": {},
   "source": [
    "# Basic Example\n",
    "\n",
    "This example shows the limited code necessary to construct and analyze a simple energy system using the `assetra` package."
   ]
  },
  {
   "attachments": {},
   "cell_type": "markdown",
   "metadata": {},
   "source": [
    "To clarify syntax later in the example, we setup a few helpful functions and variables. It is worth noting that the `assetra` package makes extensive use of `xarray` data structures, so some familiarity there may be helpful."
   ]
  },
  {
   "cell_type": "code",
   "execution_count": null,
   "metadata": {},
   "outputs": [],
   "source": [
    "from datetime import datetime \n",
    "import xarray as xr\n",
    "\n",
    "HOURS_PER_YEAR = 8760 # h\n",
    "\n",
    "HOURLY_DEMAND = 100 # MW\n",
    "STOCHASTIC_NUM_UNITS = 110\n",
    "STOCHASTIC_UNIT_NAMEPLATE_CAPACITY = 1 # MW\n",
    "STOCHASTIC_UNIT_FORCED_OUTAGE_RATE = 0.05\n",
    "STORAGE_NUM_UNITS = 10\n",
    "STORAGE_UNIT_NAMEPLATE_CAPACITY = 1 # MW\n",
    "STORAGE_UNIT_ENERGY_CAPACITY = 1 # MWh\n",
    "STORAGE_UNIT_EFFICIENCY = 0.8\n",
    "SIMULATION_START_HOUR = \"2019-01-01 00:00:00\"\n",
    "SIMULATION_END_HOUR = \"2019-12-31 23:00:00\"\n",
    "SIMULATION_TRIAL_SIZE = 100\n",
    "\n",
    "def get_hourly_time_series_xr(\n",
    "    hourly_data: list[float], \n",
    "    start_hour: datetime=\"2019-01-01 00:00:00\"\n",
    ") -> xr.DataArray:\n",
    "    '''Return formatted xarray data array for a sequence of hourly datapoints\n",
    "\n",
    "    Args:\n",
    "        hourly_data (list[float]): Input data stored as consecutive hour-scale datapoints.\n",
    "        start_hour (_type_, optional): Time stamp corresponding to the first datapoint.\n",
    "            Defaults to \"2016-01-01 00:00:00\".\n",
    "\n",
    "    Returns:\n",
    "        xr.Dataarray: Formatted one-dimensional xarray data with datetime-indexed time series.\n",
    "    '''\n",
    "    return xr.DataArray(\n",
    "        data=[float(x) for x in hourly_data],\n",
    "        coords=dict(\n",
    "            time=xr.date_range(start_hour, freq='1H', periods=len(hourly_data))\n",
    "        )\n",
    "    )\n"
   ]
  },
  {
   "attachments": {},
   "cell_type": "markdown",
   "metadata": {},
   "source": [
    "We use the `EnergySystemBuilder` to add energy units to our system."
   ]
  },
  {
   "cell_type": "code",
   "execution_count": null,
   "metadata": {},
   "outputs": [],
   "source": [
    "from assetra.system import EnergySystemBuilder\n",
    "from assetra.units import DemandUnit, StochasticUnit, StorageUnit\n",
    "\n",
    "builder = EnergySystemBuilder()\n",
    "\n",
    "# add demand (constant 100 MW for one year)\n",
    "new_unit = DemandUnit(\n",
    "    id=0,\n",
    "    hourly_demand=get_hourly_time_series_xr([HOURLY_DEMAND]*HOURS_PER_YEAR)\n",
    ")\n",
    "builder.add_unit(new_unit)\n",
    "\n",
    "# add 100 (1 MW) stochastic units\n",
    "for _ in range(STOCHASTIC_NUM_UNITS):\n",
    "    new_unit = StochasticUnit(\n",
    "        id=builder.size,\n",
    "        nameplate_capacity=STOCHASTIC_UNIT_NAMEPLATE_CAPACITY,\n",
    "        hourly_capacity=get_hourly_time_series_xr([STOCHASTIC_UNIT_NAMEPLATE_CAPACITY]*HOURS_PER_YEAR),\n",
    "        hourly_forced_outage_rate=get_hourly_time_series_xr([STOCHASTIC_UNIT_FORCED_OUTAGE_RATE]*HOURS_PER_YEAR)\n",
    "    )\n",
    "    builder.add_unit(new_unit)\n",
    "\n",
    "# add 10 (1 MW, 1 Hour) storage units\n",
    "for _ in range(STORAGE_NUM_UNITS):\n",
    "    new_unit = StorageUnit(\n",
    "        id=builder.size,\n",
    "        nameplate_capacity=STORAGE_UNIT_NAMEPLATE_CAPACITY,\n",
    "        charge_rate=STORAGE_UNIT_NAMEPLATE_CAPACITY,\n",
    "        discharge_rate=STORAGE_UNIT_NAMEPLATE_CAPACITY,\n",
    "        charge_capacity=STORAGE_UNIT_ENERGY_CAPACITY,\n",
    "        roundtrip_efficiency=STORAGE_UNIT_EFFICIENCY\n",
    "    )\n",
    "    builder.add_unit(new_unit)\n"
   ]
  },
  {
   "attachments": {},
   "cell_type": "markdown",
   "metadata": {},
   "source": [
    "We compile our energy system using `builder.build()`. Note the type of `energy_system` is `EnergySystem` not `EnergySystemBuilder`."
   ]
  },
  {
   "cell_type": "code",
   "execution_count": null,
   "metadata": {},
   "outputs": [],
   "source": [
    "energy_system = builder.build()"
   ]
  },
  {
   "attachments": {},
   "cell_type": "markdown",
   "metadata": {},
   "source": [
    "At this point, we have the option to save or load our energy system to the file system."
   ]
  },
  {
   "cell_type": "code",
   "execution_count": null,
   "metadata": {},
   "outputs": [],
   "source": [
    "from assetra.system import EnergySystem\n",
    "from pathlib import Path\n",
    "\n",
    "saved_system_dir = Path('saved_energy_system')\n",
    "\n",
    "if not saved_system_dir.exists():\n",
    "    # save energy system \n",
    "    energy_system.save(saved_system_dir)\n",
    "else:\n",
    "    energy_system = EnergySystem()\n",
    "    energy_system.load(saved_system_dir)\n"
   ]
  },
  {
   "attachments": {},
   "cell_type": "markdown",
   "metadata": {},
   "source": [
    "We can run a probabilistic Monte Carlo simulation of our energy system for a given time frame."
   ]
  },
  {
   "cell_type": "code",
   "execution_count": null,
   "metadata": {},
   "outputs": [],
   "source": [
    "from assetra.simulation import ProbabilisticSimulation\n",
    "\n",
    "simulation = ProbabilisticSimulation(\n",
    "    SIMULATION_START_HOUR,\n",
    "    SIMULATION_END_HOUR,\n",
    "    SIMULATION_TRIAL_SIZE\n",
    ")\n",
    "simulation.assign_energy_system(energy_system)\n",
    "simulation.run()"
   ]
  },
  {
   "attachments": {},
   "cell_type": "markdown",
   "metadata": {},
   "source": [
    "Finally, we evaluate the resource adequacy of our system, in this case loss of load hours."
   ]
  },
  {
   "cell_type": "code",
   "execution_count": null,
   "metadata": {},
   "outputs": [],
   "source": [
    "from assetra.metrics import LossOfLoadHours\n",
    "\n",
    "lolh_model = LossOfLoadHours(simulation)\n",
    "lolh = lolh_model.evaluate()\n",
    "\n",
    "print(\"System LOLH:\", lolh)"
   ]
  },
  {
   "attachments": {},
   "cell_type": "markdown",
   "metadata": {},
   "source": [
    "The purpose of this example is only to show the basic syntax needed to work with the `assetra` package. See the next [example]() for more detailed analysis of the California ISO balancing authority."
   ]
  },
  {
   "cell_type": "markdown",
   "metadata": {},
   "source": []
  }
 ],
 "metadata": {
  "kernelspec": {
   "display_name": "env",
   "language": "python",
   "name": "python3"
  },
  "language_info": {
   "codemirror_mode": {
    "name": "ipython",
    "version": 3
   },
   "file_extension": ".py",
   "mimetype": "text/x-python",
   "name": "python",
   "nbconvert_exporter": "python",
   "pygments_lexer": "ipython3",
   "version": "3.11.12"
  },
  "orig_nbformat": 4
 },
 "nbformat": 4,
 "nbformat_minor": 2
}
