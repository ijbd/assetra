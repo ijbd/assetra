{
 "cells": [
  {
   "attachments": {},
   "cell_type": "markdown",
   "metadata": {},
   "source": [
    "1. Initialize energy system"
   ]
  },
  {
   "cell_type": "code",
   "execution_count": null,
   "metadata": {},
   "outputs": [
    {
     "ename": "",
     "evalue": "",
     "output_type": "error",
     "traceback": [
      "\u001b[1;31mRunning cells with 'env' requires the ipykernel package.\n",
      "\u001b[1;31mRun the following command to install 'ipykernel' into the Python environment. \n",
      "\u001b[1;31mCommand: '/mnt/c/Users/broml/Desktop/work/asset/assetra/env/bin/python -m pip install ipykernel -U --force-reinstall'"
     ]
    }
   ],
   "source": [
    "from assetra.core import EnergySystem\n",
    "\n",
    "energy_system = EnergySystem()"
   ]
  },
  {
   "attachments": {},
   "cell_type": "markdown",
   "metadata": {},
   "source": [
    "2. Add units"
   ]
  },
  {
   "cell_type": "code",
   "execution_count": null,
   "metadata": {},
   "outputs": [
    {
     "ename": "",
     "evalue": "",
     "output_type": "error",
     "traceback": [
      "\u001b[1;31mRunning cells with 'env' requires the ipykernel package.\n",
      "\u001b[1;31mRun the following command to install 'ipykernel' into the Python environment. \n",
      "\u001b[1;31mCommand: '/mnt/c/Users/broml/Desktop/work/asset/assetra/env/bin/python -m pip install ipykernel -U --force-reinstall'"
     ]
    }
   ],
   "source": [
    "import xarray as xr\n",
    "import numpy as np"
   ]
  },
  {
   "cell_type": "code",
   "execution_count": null,
   "metadata": {},
   "outputs": [],
   "source": [
    "from assetra.core import (\n",
    "\tDemandUnit,\n",
    "\tStochasticUnit\n",
    "\t)\n",
    "# add demand\n",
    "energy_system.add_unit(\n",
    "\tDemandUnit(\n",
    "\t\tid=0,\n",
    "\t\thourly_demand=xr.DataArray(\n",
    "\t\t\tdata=np.ones(8760),\n",
    "\t\t\tcoords=dict(\n",
    "\t\t\t\ttime=xr.date_range(\n",
    "\t\t\t\t\tstart=\"2016-01-01 00:00\",\n",
    "\t\t\t\t\tend=\"2016-12-31 23:00\",\n",
    "\t\t\t\t\tfreq=\"H\",\n",
    "\t\t\t\t\tinclusive=\"both\",\n",
    "\t\t\t\t)\n",
    "\t\t\t)\n",
    "\t\t)\n",
    "\t)\n",
    ")\n",
    "\t\n",
    "# add one hundred 1 MW generators\n",
    "for i in range(100):\n",
    "\tenergy_system.add_unit(\n",
    "\t\tStochasticUnit(\n",
    "\t\t\tid=i+1,\n",
    "\t\t\tnameplate_capacity=1,\n",
    "\t\t\thourly_capacity=xr.DataArray(\n",
    "\t\t\t\tdata=np.ones(8760)*0.01,\n",
    "\t\t\t\tcoords=dict(\n",
    "\t\t\t\t\ttime=xr.date_range(\n",
    "\t\t\t\t\t\tstart=\"2016-01-01 00:00\",\n",
    "\t\t\t\t\t\tend=\"2016-12-31 23:00\",\n",
    "\t\t\t\t\t\tfreq=\"H\",\n",
    "\t\t\t\t\t\tinclusive=\"both\",\n",
    "\t\t\t\t\t)\n",
    "\t\t\t\t)),\n",
    "\t\t\thourly_forced_outage_rate=xr.DataArray(\n",
    "\t\t\t\tdata=np.ones(8760)*0.05,\n",
    "\t\t\t\tcoords=dict(\n",
    "\t\t\t\t\ttime=xr.date_range(\n",
    "\t\t\t\t\t\tstart=\"2016-01-01 00:00\",\n",
    "\t\t\t\t\t\tend=\"2016-12-31 23:00\",\n",
    "\t\t\t\t\t\tfreq=\"H\",\n",
    "\t\t\t\t\t\tinclusive=\"both\",\n",
    "\t\t\t\t\t)\n",
    "\t\t\t\t)),\n",
    "\t\t\t)\n",
    "\t\t)"
   ]
  },
  {
   "attachments": {},
   "cell_type": "markdown",
   "metadata": {},
   "source": [
    "3. Create probabilistic analysis object"
   ]
  },
  {
   "cell_type": "code",
   "execution_count": null,
   "metadata": {},
   "outputs": [],
   "source": [
    "from assetra.probabilistic_analysis import ProbabilisticSimulation\n",
    "\n",
    "simulation = ProbabilisticSimulation(\n",
    "    energy_system=energy_system\n",
    "\tstart_hour=0,\n",
    "\tend_hour=8760,\n",
    "\ttrial_size=100\n",
    "\t)\n"
   ]
  },
  {
   "attachments": {},
   "cell_type": "markdown",
   "metadata": {},
   "source": [
    " 4. Quantify resource adequacy"
   ]
  },
  {
   "cell_type": "code",
   "execution_count": null,
   "metadata": {},
   "outputs": [],
   "source": [
    "\n",
    "from assetra.adequacy_metrics import ExpectedUnservedEnergy\n",
    "\n",
    "# calculate resource adequacy\n",
    "eue_inst = ExpectedUnservedEnergy(probabilistic_simulation=simulation)\n",
    "eue = eue_inst.evaluate()"
   ]
  },
  {
   "attachments": {},
   "cell_type": "markdown",
   "metadata": {},
   "source": [
    "5. Quantify resource contribution of additional generator"
   ]
  },
  {
   "cell_type": "code",
   "execution_count": null,
   "metadata": {},
   "outputs": [],
   "source": [
    "from assetra.contribution_metrics import EffectiveLoadCarryingCapability\n",
    "\n",
    "# declare additional solar plant\n",
    "addition = EnergySystem()\n",
    "addition.add_unit(\n",
    "\tStochasticUnit(\n",
    "\t\tid=101,\n",
    "\t\tnameplate_capacity=1,\n",
    "\t\thourly_capacity=xr.DataArray(\n",
    "\t\t\tdata=np.ones(8760)*0.01,\n",
    "\t\t\tcoords=dict(\n",
    "\t\t\t\ttime=xr.date_range(\n",
    "\t\t\t\t\tstart=\"2016-01-01 00:00\",\n",
    "\t\t\t\t\tend=\"2016-12-31 23:00\",\n",
    "\t\t\t\t\tfreq=\"H\",\n",
    "\t\t\t\t\tinclusive=\"both\",\n",
    "\t\t\t\t)\n",
    "\t\t\t)),\n",
    "\t\thourly_forced_outage_rate=xr.DataArray(\n",
    "\t\t\tdata=np.ones(8760)*0.05,\n",
    "\t\t\tcoords=dict(\n",
    "\t\t\t\ttime=xr.date_range(\n",
    "\t\t\t\t\tstart=\"2016-01-01 00:00\",\n",
    "\t\t\t\t\tend=\"2016-12-31 23:00\",\n",
    "\t\t\t\t\tfreq=\"H\",\n",
    "\t\t\t\t\tinclusive=\"both\",\n",
    "\t\t\t\t)\n",
    "\t\t\t)),\n",
    "\t\t)\n",
    "\t)\n",
    "\n",
    "# calculate resource contribution\n",
    "elcc_inst = EffectiveLoadCarryingCapability(\n",
    "\tenergy_system,\n",
    "    addition,\n",
    "    probabilistic_simulation=simulation.like_simulation(),\n",
    "    resource_adequacy_metric = ExpectedUnservedEnergy(),\n",
    "    threshold=0.01\n",
    "\t)\n",
    "elcc = elcc_inst.evaluate()"
   ]
  }
 ],
 "metadata": {
  "kernelspec": {
   "display_name": "env",
   "language": "python",
   "name": "python3"
  },
  "language_info": {
   "name": "python",
   "version": "3.10.6"
  },
  "orig_nbformat": 4,
  "vscode": {
   "interpreter": {
    "hash": "b5dff7ac00cb0655ec855c81ad023c9ea27bf5f9c89eaab85fc54ee8cc1a4868"
   }
  }
 },
 "nbformat": 4,
 "nbformat_minor": 2
}
