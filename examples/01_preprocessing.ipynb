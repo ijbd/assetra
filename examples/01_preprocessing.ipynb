{
 "cells": [
  {
   "attachments": {},
   "cell_type": "markdown",
   "metadata": {},
   "source": [
    "## 1. Load demand data"
   ]
  },
  {
   "cell_type": "code",
   "execution_count": null,
   "metadata": {},
   "outputs": [],
   "source": [
    "from assetra.preprocessing import load_eia_cleaned_hourly_demand\n",
    "\n",
    "eia_cleaned_hourly_demand = load_eia_cleaned_hourly_demand(\n",
    "\teia_cleaned_hourly_demand_file,\n",
    "\tstart=datetime(2020, 1, 1),\n",
    "\tend=datetime(2021, 1, 1)\n",
    "\t)"
   ]
  },
  {
   "attachments": {},
   "cell_type": "markdown",
   "metadata": {},
   "source": [
    "## 2. Load generator data"
   ]
  },
  {
   "cell_type": "code",
   "execution_count": null,
   "metadata": {},
   "outputs": [],
   "source": [
    "from assetra.preprocessing import (\n",
    "\tload_processed_reanalysis_net_cdf,\n",
    "\tloc_processed_reanalysis_variable,\n",
    "\tload_eia_860_plants,\n",
    "\tload_eia_860_thermal_generators,\n",
    "\tcalc_hourly_forced_outage_rates\n",
    "\t)\n",
    "\n",
    "merra_net_cdf = load_processed_reanalysis_net_cdf(\n",
    "\tprocessed_reanalysis_net_cdf,\n",
    "\t)\n",
    "\n",
    "eia_860_plants = load_eia_860_plants(\n",
    "\teia_860_plant_file, \n",
    "\tregion='PACE'\n",
    "\t)\n",
    "eia_860_thermal_generators = load_eia_860_generator(\n",
    "\ttechnology='coal',\n",
    "\teia_860_thermal_generator_file,\n",
    "\teia_860_plants\n",
    "\t)\n",
    "\n",
    "generator_fleet = []\n",
    "\n",
    "for generator in eia_860_thermal_generators:\n",
    "\thourly_temperature = loc_processed_reanalysis_variable(\n",
    "\t\tvariable_name='temperature (C)',\n",
    "\t\tstart=datetime(2020, 1, 1),\n",
    "\t\tend=datetime(2021, 1, 1),\n",
    "\t\tlatitude=generator['latitute']\n",
    "\t\tlongitude=generator['longitude']\n",
    "\t\t)\n",
    "\thourly_forced_outage_rate = calc_forced_outage_rate(\n",
    "\t\ttechnology=generator['technology'],\n",
    "\t\ttemperature=hourly_temperature\n",
    "\t\t)\n",
    "\n",
    "\tgenerator_fleet.append(\n",
    "\t\tStochasticUnit(\n",
    "\t\t\thourly_capacity=np.ones(8760)*generator['capacity (MW)']\n",
    "\t\t\thourly_forced_outage_rate = hourly_forced_outage_rate\n",
    "\t\t\t)\n",
    "\t\t)\n",
    "\n"
   ]
  }
 ],
 "metadata": {
  "language_info": {
   "name": "python"
  },
  "orig_nbformat": 4
 },
 "nbformat": 4,
 "nbformat_minor": 2
}
