{
 "cells": [
  {
   "attachments": {},
   "cell_type": "markdown",
   "metadata": {},
   "source": [
    "# Basic Hydro Example\n",
    "\n",
    "This example uses most of the same code as the basic_example but adds the hydro unit with a monthly expected generation pulled from the RectifHyd dataset. \n",
    "\n",
    "RectifHyd: https://hydrosource.ornl.gov/data/datasets/rectifhydplus/"
   ]
  },
  {
   "cell_type": "code",
   "execution_count": null,
   "metadata": {},
   "outputs": [],
   "source": [
    "from datetime import datetime \n",
    "import xarray as xr\n",
    "\n",
    "#declare values and create hourly timeseries function  \n",
    "\n",
    "\n",
    "HOURS_PER_YEAR = 8760 # h\n",
    "\n",
    "HOURLY_DEMAND = 10 # MW\n",
    "STOCHASTIC_NUM_UNITS = 12\n",
    "STOCHASTIC_UNIT_NAMEPLATE_CAPACITY = 1 # MW\n",
    "STOCHASTIC_UNIT_FORCED_OUTAGE_RATE = 0.05\n",
    "STORAGE_NUM_UNITS = 10\n",
    "STORAGE_UNIT_NAMEPLATE_CAPACITY = 1 # MW\n",
    "STORAGE_UNIT_ENERGY_CAPACITY = 1 # MWh\n",
    "STORAGE_UNIT_EFFICIENCY = 0.8\n",
    "HYDRO_UNIT_FORCED_OUTAGE_RATE = 0.25\n",
    "SIMULATION_START_HOUR = \"2019-01-01 00:00:00\"\n",
    "SIMULATION_END_HOUR = \"2019-12-31 23:00:00\"\n",
    "SIMULATION_TRIAL_SIZE = 100\n",
    "\n",
    "def get_hourly_time_series_xr(\n",
    "    hourly_data: list[float], \n",
    "    start_hour: datetime=\"2019-01-01 00:00:00\"\n",
    ") -> xr.DataArray:\n",
    "    '''Return formatted xarray data array for a sequence of hourly datapoints\n",
    "\n",
    "    Args:\n",
    "        hourly_data (list[float]): Input data stored as consecutive hour-scale datapoints.\n",
    "        start_hour (_type_, optional): Time stamp corresponding to the first datapoint.\n",
    "            Defaults to \"2016-01-01 00:00:00\".\n",
    "\n",
    "    Returns:\n",
    "        xr.Dataarray: Formatted one-dimensional xarray data with datetime-indexed time series.\n",
    "    '''\n",
    "    return xr.DataArray(\n",
    "        data=[float(x) for x in hourly_data],\n",
    "        coords=dict(\n",
    "            time=xr.date_range(start_hour, freq='1h', periods=len(hourly_data))\n",
    "        )\n",
    "    )\n"
   ]
  },
  {
   "cell_type": "markdown",
   "metadata": {},
   "source": [
    "Builder for stochastic and storage units, identical to basic_example "
   ]
  },
  {
   "cell_type": "code",
   "execution_count": null,
   "metadata": {},
   "outputs": [],
   "source": [
    "from assetra.system import EnergySystemBuilder\n",
    "from assetra.units import DemandUnit, StochasticUnit, StorageUnit, HydroUnit\n",
    "\n",
    "builder = EnergySystemBuilder()\n",
    "\n",
    "# add demand (constant 100 MW for one year)\n",
    "new_unit = DemandUnit(\n",
    "    id=0,\n",
    "    hourly_demand=get_hourly_time_series_xr([HOURLY_DEMAND]*HOURS_PER_YEAR)\n",
    ")\n",
    "builder.add_unit(new_unit)\n",
    "\n",
    "# add 100 (1 MW) stochastic units\n",
    "for _ in range(STOCHASTIC_NUM_UNITS):\n",
    "    new_unit = StochasticUnit(\n",
    "        id=builder.size,\n",
    "        nameplate_capacity=STOCHASTIC_UNIT_NAMEPLATE_CAPACITY,\n",
    "        hourly_capacity=get_hourly_time_series_xr([STOCHASTIC_UNIT_NAMEPLATE_CAPACITY]*HOURS_PER_YEAR),\n",
    "        hourly_forced_outage_rate=get_hourly_time_series_xr([STOCHASTIC_UNIT_FORCED_OUTAGE_RATE]*HOURS_PER_YEAR)\n",
    "    )\n",
    "    builder.add_unit(new_unit)\n",
    "\n",
    "# add 10 (1 MW, 1 Hour) storage units\n",
    "for _ in range(STORAGE_NUM_UNITS):\n",
    "    new_unit = StorageUnit(\n",
    "        id=builder.size,\n",
    "        nameplate_capacity=STORAGE_UNIT_NAMEPLATE_CAPACITY,\n",
    "        charge_rate=STORAGE_UNIT_NAMEPLATE_CAPACITY,\n",
    "        discharge_rate=STORAGE_UNIT_NAMEPLATE_CAPACITY,\n",
    "        charge_capacity=STORAGE_UNIT_ENERGY_CAPACITY,\n",
    "        roundtrip_efficiency=STORAGE_UNIT_EFFICIENCY\n",
    "    )\n",
    "    builder.add_unit(new_unit)\n",
    "\n",
    "\n"
   ]
  },
  {
   "cell_type": "markdown",
   "metadata": {},
   "source": [
    "**Add the Hydro Unit**\n",
    "\n",
    "Now we add in the hydro unit, first reading in the months expected generation from a CSV and reformatting it into an xarray then adding the unit to the builder."
   ]
  },
  {
   "cell_type": "code",
   "execution_count": null,
   "metadata": {},
   "outputs": [],
   "source": [
    "import pandas as pd\n",
    "#function to read in the hydro data from the CSV\n",
    "def Hydro_ReadIn(): \n",
    "    #read in hydro predictions\n",
    "    hydro_predictions_df = pd.read_csv('hydro_example_monthly_gen.csv').set_index('date')\n",
    "    # Ensure the date column is a datetime object\n",
    "    hydro_predictions_df.index = pd.to_datetime(hydro_predictions_df.index)\n",
    "    # Convert the DataFrame to an xarray DataArray\n",
    "    monthly_expected_generation_xr = hydro_predictions_df.to_xarray()\n",
    "    # Extract month and year from the date index\n",
    "    monthly_expected_generation_xr['month'] = ('time', monthly_expected_generation_xr['date.month'].data)\n",
    "    monthly_expected_generation_xr['year'] = ('time', monthly_expected_generation_xr['date.year'].data)\n",
    "    # Reshape for multi-dimensional indexing\n",
    "    monthly_expected_generation_xr = monthly_expected_generation_xr.rename({'date': 'time'})\n",
    "    return monthly_expected_generation_xr\n",
    "\n",
    "monthly_generation = Hydro_ReadIn()\n",
    "\n",
    "#add the new hydro unit to builder \n",
    "new_unit = HydroUnit(\n",
    "    id = builder.size,\n",
    "    nameplate_capacity = 1.3, #in MW\n",
    "    monthly_expected_generation = monthly_generation['hydro_unit 34'],\n",
    "    hourly_forced_outage_rate = get_hourly_time_series_xr([HYDRO_UNIT_FORCED_OUTAGE_RATE]*HOURS_PER_YEAR)\n",
    ")\n",
    "builder.add_unit(new_unit)"
   ]
  },
  {
   "attachments": {},
   "cell_type": "markdown",
   "metadata": {},
   "source": [
    "We compile our energy system using `builder.build()`, same as in basic_example."
   ]
  },
  {
   "cell_type": "code",
   "execution_count": null,
   "metadata": {},
   "outputs": [],
   "source": [
    "energy_system = builder.build()"
   ]
  },
  {
   "attachments": {},
   "cell_type": "markdown",
   "metadata": {},
   "source": [
    "Save or load energy system and run simualtion. If you look at the energy system folder you will see HydroUnit.assetra.nc along with the other unit files. If using a forced outage rate on the Hydro Unit, the simulation will likely take longer to run."
   ]
  },
  {
   "cell_type": "code",
   "execution_count": null,
   "metadata": {},
   "outputs": [],
   "source": [
    "from assetra.system import EnergySystem\n",
    "from pathlib import Path\n",
    "\n",
    "saved_system_dir = Path('saved_energy_system')\n",
    "\n",
    "if not saved_system_dir.exists():\n",
    "    # save energy system \n",
    "    energy_system.save(saved_system_dir)\n",
    "else:\n",
    "    energy_system = EnergySystem()\n",
    "    energy_system.load(saved_system_dir)\n"
   ]
  },
  {
   "cell_type": "code",
   "execution_count": null,
   "metadata": {},
   "outputs": [],
   "source": [
    "from assetra.simulation import ProbabilisticSimulation\n",
    "\n",
    "simulation = ProbabilisticSimulation(\n",
    "    SIMULATION_START_HOUR,\n",
    "    SIMULATION_END_HOUR,\n",
    "    SIMULATION_TRIAL_SIZE\n",
    ")\n",
    "simulation.assign_energy_system(energy_system)\n",
    "simulation.run()"
   ]
  },
  {
   "cell_type": "code",
   "execution_count": null,
   "metadata": {},
   "outputs": [],
   "source": [
    "simulation._net_hourly_capacity_matrix"
   ]
  },
  {
   "cell_type": "markdown",
   "metadata": {},
   "source": [
    "**Graph the Hydro Unit Behavior**\n",
    "\n",
    "See graph below, hydro unit hourly is based on the total generation for the month and then distributed hourly based on net demand. Here every hour of the month is similar because demand is constant."
   ]
  },
  {
   "cell_type": "code",
   "execution_count": null,
   "metadata": {},
   "outputs": [],
   "source": [
    "import matplotlib.pyplot as plt\n",
    "simulation._hourly_capacity_matrix.isel(unit_type =2, trial = 0).plot()\n",
    "plt.title('HydroUnit Hourly Output Over Year')\n",
    "plt.xlabel('Month')\n",
    "plt.ylabel('Hourly Hydro Output (MW)')"
   ]
  },
  {
   "attachments": {},
   "cell_type": "markdown",
   "metadata": {},
   "source": [
    "Finally, we evaluate the resource adequacy of our system, in this case loss of load hours."
   ]
  },
  {
   "cell_type": "code",
   "execution_count": null,
   "metadata": {},
   "outputs": [],
   "source": [
    "from assetra.metrics import LossOfLoadHours\n",
    "\n",
    "lolh_model = LossOfLoadHours(simulation)\n",
    "lolh = lolh_model.evaluate()\n",
    "\n",
    "print(\"System LOLH:\", lolh)"
   ]
  },
  {
   "attachments": {},
   "cell_type": "markdown",
   "metadata": {},
   "source": [
    "The purpose of this example is only to show basic inetgration of the HydroUnit in the `assetra` package."
   ]
  },
  {
   "cell_type": "markdown",
   "metadata": {},
   "source": []
  }
 ],
 "metadata": {
  "kernelspec": {
   "display_name": "env",
   "language": "python",
   "name": "python3"
  },
  "language_info": {
   "codemirror_mode": {
    "name": "ipython",
    "version": 3
   },
   "file_extension": ".py",
   "mimetype": "text/x-python",
   "name": "python",
   "nbconvert_exporter": "python",
   "pygments_lexer": "ipython3",
   "version": "3.11.12"
  },
  "orig_nbformat": 4
 },
 "nbformat": 4,
 "nbformat_minor": 2
}
